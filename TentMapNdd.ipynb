{
 "cells": [
  {
   "cell_type": "markdown",
   "metadata": {},
   "source": [
    "## La función tienda (Tent Map)"
   ]
  },
  {
   "cell_type": "markdown",
   "metadata": {},
   "source": [
    "Nicolás Díaz / *Cod. 614182002*"
   ]
  },
  {
   "cell_type": "markdown",
   "metadata": {},
   "source": [
    "#### Definición:\n",
    "\n",
    "Consideremos la *función tienda*, \n",
    "$T: [0, 1]\\rightarrow[0, 1]$ :"
   ]
  },
  {
   "cell_type": "markdown",
   "metadata": {},
   "source": [
    "\n",
    "\n",
    "$$T(x)=      \\begin{cases} \n",
    "      \\mu x,              & 0 \\le x \\le \\frac{1}{2}   \\\\\n",
    "      \\mu (1-x)            & \\frac{1}{2} < x \\le 1\n",
    "   \\end{cases}$$\n",
    "   \n",
    "   donde $\\mu$ es un párametro tal que $0 \\le \\mu \\le 2$ \n",
    "   (Sanders & Bennet, 2014). En este trabajo nos vamos a referir a dicho parámetro como $r$.\n",
    "   "
   ]
  },
  {
   "cell_type": "markdown",
   "metadata": {},
   "source": [
    "<img src=\"1.jpg\" style=\"width:600px;height:400px\"/>"
   ]
  },
  {
   "cell_type": "markdown",
   "metadata": {},
   "source": [
    "La función tienda posee propiedades similares al mapa logístico, pues es una función continua, que alcanza un máximo y tiene comportamiento aperiódico. Forma parte de los sistemas dinámicos discretos no lineales, a pesar de su gráfica estar conformada por dos lineas rectas. Esto permite que su análisis, en general, sea más simple que el de otros sistemas dinámicos (Al-Shameri & Mahiub, 2013). "
   ]
  },
  {
   "cell_type": "markdown",
   "metadata": {},
   "source": [
    "Aunque la gráfica de esta función es simple y las ecuaciones que la definen son lineales, para algunos valores del parámetro $r$ el sistema adopta un comportamiento muy complejo y en ocasiones caótico. Como veremos más adelante, el sistema presenta un comportamiento tanto periódico como aperiódico para distintos valores de $r$. Además, su exponente de Lyapunov es positivo."
   ]
  },
  {
   "cell_type": "markdown",
   "metadata": {},
   "source": [
    "##### Exponente de Lyapunov en la función tienda\n",
    "\n",
    "Recordemos que el exponente de Lyapunov para sistemas dinámicos discretos está definido así:\n",
    "\n",
    "$$\\lambda(x_0)= \\frac{1}{n}\\sum_{i=0}^{n-1} \\ln|f^\\prime(x_i)|$$\n"
   ]
  },
  {
   "cell_type": "markdown",
   "metadata": {},
   "source": [
    "Consideremos la función tienda con el parámetro $r$ en su valor máximo $r=2$ para evaluar el valor que toma el exponente de Lyapunov (Idini, 2020):"
   ]
  },
  {
   "cell_type": "markdown",
   "metadata": {},
   "source": [
    "$$T(x)=      \\begin{cases} \n",
    "      2x,              & 0 \\le x \\le \\frac{1}{2}   \\\\\n",
    "      2(1-x)            & \\frac{1}{2} < x \\le 1\n",
    "   \\end{cases}$$"
   ]
  },
  {
   "cell_type": "markdown",
   "metadata": {},
   "source": [
    "Si calculamos la derivada del sistema, obtenemos"
   ]
  },
  {
   "cell_type": "markdown",
   "metadata": {},
   "source": [
    "$$T^\\prime(x)=      \\begin{cases} \n",
    "      2                      & \\left[0, \\frac{1}{2}\\right]  \\\\\n",
    "      -2                     & \\left(\\frac{1}{2}, 1\\right]\n",
    "   \\end{cases}$$"
   ]
  },
  {
   "cell_type": "markdown",
   "metadata": {},
   "source": [
    "lo cual nos sirve para calcular el exponente de Lyapunov"
   ]
  },
  {
   "cell_type": "markdown",
   "metadata": {},
   "source": [
    "\n",
    "$$\\lambda = \\frac{1}{n}\\sum_{i=0}^{n-1} \\ln|T^\\prime(x)|$$"
   ]
  },
  {
   "cell_type": "markdown",
   "metadata": {},
   "source": [
    "El valor absoluto de $T^\\prime(x)$ será siempre igual a $2$. En consecuencia,"
   ]
  },
  {
   "cell_type": "markdown",
   "metadata": {},
   "source": [
    "$$\\lambda = \\frac{1}{n}\\sum_{i=0}^{n-1} \\ln|2|$$"
   ]
  },
  {
   "cell_type": "markdown",
   "metadata": {},
   "source": [
    "Simplificando, obtenemos"
   ]
  },
  {
   "cell_type": "markdown",
   "metadata": {},
   "source": [
    "$$\\lambda = \\ln|2| = \\ln (2) \\approx 0.69$$"
   ]
  },
  {
   "cell_type": "markdown",
   "metadata": {},
   "source": [
    "Un valor positivo en el exponente de Lyapunov señala que el sistema es caótico (Sayama, 2015), pues posee una alta sensibilidad a las condiciones iniciales en ciertos valores de $x_0$. \n"
   ]
  },
  {
   "cell_type": "markdown",
   "metadata": {},
   "source": [
    "Ahora definamos una función iterativa como\n",
    "$$x_{n+1}=T(x_n)$$\n",
    "donde $x_n \\in [0,1]$"
   ]
  },
  {
   "cell_type": "markdown",
   "metadata": {},
   "source": [
    "#### Definición:\n",
    "Un *punto fijo*, o punto de periodo uno, es un punto en el cual se cumple que $x_{n+1}=f(x_n)=x_n$ para todo valor de $n$ (Sanders & Benet, 2014)"
   ]
  },
  {
   "cell_type": "markdown",
   "metadata": {},
   "source": [
    "En el caso de la función tienda, el *punto fijo* está definido como $T(x_n) = x_n$, para todo $n$"
   ]
  },
  {
   "cell_type": "markdown",
   "metadata": {},
   "source": [
    "Gráficamente, los puntos fijos corresponden al punto de corte entre la función tienda y la funcion identidad $f(x)=x$"
   ]
  },
  {
   "cell_type": "markdown",
   "metadata": {},
   "source": [
    "<img src=\"14-82.jpg\" style=\"width:400px;height:400px\"/>"
   ]
  },
  {
   "cell_type": "markdown",
   "metadata": {},
   "source": [
    "Un punto fijo puede ser atractor, repulsor o estable. Normalmente, esto se determina calculando la pendiente de la recta tangente a una función. En el caso de la función tienda, cuyos segmentos tienen la forma $y=mx+b$, se sabe que si $m < -1$, entonces la ruta de las iteraciones será repelida y tenderá a alejarse del punto fijo. Si $-1 < m < 0$, entonces las órbitas creadas por las iteraciones se verán atraídas por el punto fijo. Si $0<m<1$, la órbita se verá atraída por el punto fijo. Y si $m>1$, la órbita se aleja del punto crítico, es decir, este se comporta como un repulsor. (Crampin & Hill, 1994).\n",
    "\n",
    "Si $|m| = 1$, entonces el punto no es ni atractor ni repulsor, es decir, hay estabilidad en el sistema. "
   ]
  },
  {
   "cell_type": "markdown",
   "metadata": {},
   "source": [
    "En la función tienda, si el parámetro $r$ toma un valor entre $0$ y $1$, el único punto fijo será cuando $x=0$. Esto es conocido como un *punto fijo trivial*, pues no nos brinda información respecto al comportamiento del sistema.\n"
   ]
  },
  {
   "cell_type": "markdown",
   "metadata": {},
   "source": [
    "<img src=\"14-8.jpg\" style=\"width:400px;height:400px\"/>"
   ]
  },
  {
   "cell_type": "markdown",
   "metadata": {},
   "source": [
    "Cuando $0<r<1$, el sistema no presenta un comportamiento caótico, como se observa a continuación:"
   ]
  },
  {
   "cell_type": "markdown",
   "metadata": {},
   "source": [
    " <tr>\n",
    "    <td> <img src=\"14-3a.jpg\" alt=\"Drawing\" style=\"width: 300px;\"/> </td>\n",
    "    <td> <img src=\"14-3b.jpg\" alt=\"Drawing\" style=\"width: 300px;\"/> </td>\n",
    "    <td> <img src=\"14-3c.jpg\" alt=\"Drawing\" style=\"width: 300px;\"/> </td>\n",
    "    </tr>"
   ]
  },
  {
   "cell_type": "markdown",
   "metadata": {},
   "source": [
    "Cuando $r=1$, la pendiente de la función identidad es igual a la pendiente del lado izquierdo de la función tienda. En este caso, hay infinitos puntos fijos y el comportamiento del sistema no es caótico:"
   ]
  },
  {
   "cell_type": "markdown",
   "metadata": {},
   "source": [
    "  <tr>\n",
    "    <td> <img src=\"14-4a.jpg\" alt=\"Drawing\" style=\"width: 400px;\"/> </td>\n",
    "    <td> <img src=\"14-4b.jpg\" alt=\"Drawing\" style=\"width: 400px;\"/> </td>\n",
    "    </tr>"
   ]
  },
  {
   "cell_type": "markdown",
   "metadata": {},
   "source": [
    "Ambas gráficas tienen $r=1$. La de la izquierda tiene $x_0=\\frac{1}{3}$, la de la derecha $x_0=\\frac{2}{3}$. Todavía no se observa comportamiento caótico."
   ]
  },
  {
   "cell_type": "markdown",
   "metadata": {},
   "source": [
    "Cuando $1>r>2$, dependiendo del valor que tome el parámetro $r$ y de la condición inicial, el sistema puede presentar comportamientos periódicos, como se observa a continuación:"
   ]
  },
  {
   "cell_type": "markdown",
   "metadata": {},
   "source": [
    " <tr>\n",
    "    <td> <img src=\"14-6a.jpg\" alt=\"Drawing\" style=\"width: 400px;\"/> </td>\n",
    "    <td> <img src=\"14-6b.jpg\" alt=\"Drawing\" style=\"width: 400px;\"/> </td>\n",
    "    </tr>"
   ]
  },
  {
   "cell_type": "markdown",
   "metadata": {},
   "source": [
    "Ambas gráficas de arriba tienen $r=2$. La de la izquierda tiene $x_0=\\frac{1}{3}$ y la de la derecha, $x_0=\\frac{1}{5}$. Ambas también son ejemplos de órbitas periódicas y el sistema en equilibrio. \n",
    "\n",
    "En cuanto a las de abajo, también tienen $r=2$, pero sus valores iniciales son $\\frac{1}{7}$ y $\\frac{1}{11}$, respectivamente."
   ]
  },
  {
   "cell_type": "markdown",
   "metadata": {},
   "source": [
    " <tr>\n",
    "    <td> <img src=\"14-6c.jpg\" alt=\"Drawing\" style=\"width: 400px;\"/> </td>\n",
    "    <td> <img src=\"14-6d.jpg\" alt=\"Drawing\" style=\"width: 400px;\"/> </td>\n",
    "    </tr>"
   ]
  },
  {
   "cell_type": "markdown",
   "metadata": {},
   "source": [
    "En general, cuando la pendiente de la rama $rx$ de la función tienda es menor que uno, tenemos un sistema estable. Tan pronto la pendiente es igual a uno, sabemos que todos los puntos en el intervalo $0 \\le x \\le \\frac{1}{2}$ son puntos fijos (hay infinitos puntos fijos) (Sanders & Bennet, 2014)."
   ]
  },
  {
   "cell_type": "markdown",
   "metadata": {},
   "source": [
    "<a href=\"https://www.desmos.com/calculator/fpipfrldbn\">Modelación de la función tienda en Desmos</a>\n"
   ]
  },
  {
   "cell_type": "markdown",
   "metadata": {},
   "source": [
    "Pero cuando la función tienda sobrepasa la función identidad, la pendiente de la rama $rx$ será mayor que uno y el sistema se torna inestable. Así, cuando $1 < r \\le 2$, tenemos exactamente dos puntos fijos en el sistema: uno trivial en el origen y uno en el punto de corte entre la función tienda y la identidad. En este punto, el comportamiento de la función tienda puede tornarse caótico, dada la alta sensibilidad a condiciones iniciales con ciertos valores del parámetro $r$ y $x_0$. Un ejemplo de ello se observa a continuación:"
   ]
  },
  {
   "cell_type": "markdown",
   "metadata": {},
   "source": [
    "<img src=\"01gif.gif\" style=\"width:400px;height:300px\"/>"
   ]
  },
  {
   "cell_type": "markdown",
   "metadata": {},
   "source": [
    "Recordemos que los sistemas caóticos son deterministas, no azarosos. Sin embargo, su alta sensibilidad a las condiciones iniciales hace que, de un punto en adelante, sea casi imposible predecir el comportamiento del sistema a largo plazo, incluso recurriendo a herramientas computacionales."
   ]
  },
  {
   "cell_type": "markdown",
   "metadata": {},
   "source": [
    "<img src=\"02gif.gif\" style=\"width:400px;height:300px\"/>"
   ]
  },
  {
   "cell_type": "markdown",
   "metadata": {},
   "source": [
    "Otro ejemplo de alta sensibilidad a las condiciones iniciales se observa en los siguientes dos gráficos. Ambos tienen $r=2$, el de la izquierda tiene $x_0=0.2$, mientras que el de la derecha, $x_0=0.2001$:"
   ]
  },
  {
   "cell_type": "markdown",
   "metadata": {},
   "source": [
    " <tr>\n",
    "    <td> <img src=\"14-7a.jpg\" alt=\"Drawing\" style=\"width: 400px;\"/> </td>\n",
    "    <td> <img src=\"14-7b.jpg\" alt=\"Drawing\" style=\"width: 400px;\"/> </td>\n",
    "    </tr>"
   ]
  },
  {
   "cell_type": "markdown",
   "metadata": {},
   "source": [
    "Recordemos que en la definición de punto fijo, se afirmó que dichos puntos también reciben el nombre de *puntos de periodo uno*. Estos son aquellos puntos fijos que resultan de evaluar la función una sola vez. Pero si evaluaramos la función de la función $T(T(x))=T^2(x)$ obtendremos puntos fijos de periodo 2. En general, podemos decir: "
   ]
  },
  {
   "cell_type": "markdown",
   "metadata": {},
   "source": [
    "#### Definición\n",
    "En un sistema, un *punto fijo de periodo N* es un punto en el cual $x_{n+N}=f^N(x_n)=x_n$, para todo $n$ (Sanders & Bennet, 2014)."
   ]
  },
  {
   "cell_type": "markdown",
   "metadata": {},
   "source": [
    "Las funciones de las funciones nos arrojarán nuevos puntos fijos cuando la función tienda, iterada $n$ veces, se interseque con la función identidad. Si reemplazamos en $x$ con $T(x)$ en nuestra función tienda original, tendremos:"
   ]
  },
  {
   "cell_type": "markdown",
   "metadata": {},
   "source": [
    "$$T^2(x)=      \\begin{cases} \n",
    "      2T(x),              & 0 \\le T(x) < \\frac{1}{2}   \\\\\n",
    "      2(1-T(x))            & \\frac{1}{2} \\le T(x) \\le 1\n",
    "   \\end{cases}$$"
   ]
  },
  {
   "cell_type": "markdown",
   "metadata": {},
   "source": [
    "Esto es equivalente al sistema"
   ]
  },
  {
   "cell_type": "markdown",
   "metadata": {},
   "source": [
    "$$T^2(x)=      \\begin{cases} \n",
    "      4x,              & 0 \\le x < \\frac{1}{4}   \\\\\n",
    "      2-4x,              & \\frac{1}{4} \\le x < \\frac{1}{2}   \\\\\n",
    "      4x-2,              & \\frac{1}{2}  \\le x < \\frac{3}{4}   \\\\\n",
    "      4-4x            & \\frac{3}{4} < x \\le 1\n",
    "   \\end{cases}$$"
   ]
  },
  {
   "cell_type": "markdown",
   "metadata": {},
   "source": [
    "La gráfica de $T^2(x)$ es la siguiente:"
   ]
  },
  {
   "cell_type": "markdown",
   "metadata": {},
   "source": [
    "<img src=\"15-1.jpg\" style=\"width:400px;height:400px\"/>"
   ]
  },
  {
   "cell_type": "markdown",
   "metadata": {},
   "source": [
    "Podemos calcular $T(T(T(x)))=T^3(x)$, luego $T^4(x)$, y seguir indefinidamente hasta $T^n(x)$. Li y Yorke (citados por Sanders & Bennet, 2014) mostraron que una función como el Tent Map contiene puntos periódicos de todos los periodos. Además, siempre que haya puntos fijos periodo tres, la dinámica del sistema será caótica. "
   ]
  },
  {
   "cell_type": "markdown",
   "metadata": {},
   "source": [
    "<img src=\"interaciones.gif\" style=\"width:500px;height:350px\"/>\n",
    "\n",
    "Animación: <a href=\"https://demonstrations.wolfram.com/EntropyOfNFoldCompositionsOfTheTentMap/\">Wolfram Demonstrations Project</a>\n",
    "\n"
   ]
  },
  {
   "cell_type": "markdown",
   "metadata": {},
   "source": [
    "#### El diagrama de bifurcación\n",
    "Una bifurcación es un cambio crítico en la naturaleza de la solución de un sistema (Al-Shameri & Mahiub, 2013). El diagrama de bifurcación de la función tienda será un mapa que nos muestra la interacción entre el parámetro $r$ y las múltiples soluciones del sistema. En el eje $x$, está $r$, y en el eje $y$, todos los valores de una órbita para ese valor de $r$ (en el caso de la gráfica de abajo a la izquierda, $r$ se muestra como $\\mu$). "
   ]
  },
  {
   "cell_type": "markdown",
   "metadata": {},
   "source": [
    "<tr>\n",
    "    <td> <img src=\"04.png\" alt=\"Drawing\" style=\"width: 300px; height:260\"/> </td>\n",
    "    <td> <img src=\"bifurcacion.gif\" alt=\"Drawing\" style=\"width: 450px; height:300px\"/> </td>\n",
    "    </tr>\n"
   ]
  },
  {
   "cell_type": "markdown",
   "metadata": {},
   "source": [
    "Los puntos fijos se aprecian como puntos individuales, las órbitas periódicas como varios puntos para un mismo valor de $r$, y las órbitas caóticas como uno o varios conjuntos muy densos de puntos."
   ]
  },
  {
   "cell_type": "markdown",
   "metadata": {},
   "source": [
    "<img src=\"13.jpg\" style=\"width:500px;height:350px\"/>\n",
    "\n",
    "Imagen tomada de <a href=\"https://en.wikipedia.org/wiki/Tent_map\">Wikipedia</a>\n",
    "\n",
    "Animación: <a href=\"https://demonstrations.wolfram.com/BifurcationDiagramForTheTentMap/\">Wolfram Demonstrations Project</a>"
   ]
  },
  {
   "cell_type": "markdown",
   "metadata": {},
   "source": [
    "#### La función tienda en Python:"
   ]
  },
  {
   "cell_type": "code",
   "execution_count": 4,
   "metadata": {},
   "outputs": [
    {
     "name": "stdout",
     "output_type": "stream",
     "text": [
      "200/501\n"
     ]
    },
    {
     "data": {
      "image/png": "[encoded data removed]",
      "text/plain": [
       "<Figure size 720x504 with 1 Axes>"
      ]
     },
     "metadata": {
      "needs_background": "light"
     },
     "output_type": "display_data"
    }
   ],
   "source": [
    "# Programs 14a: Graphical iteration of the tent map.\n",
    "# See Figure 14.7(a).\n",
    "\n",
    "from sympy import Rational\n",
    "import numpy as np\n",
    "import matplotlib.pyplot as plt\n",
    "\n",
    "r = 2 #valor del parámetro\n",
    "x = Rational(200,501)  #valor inicial\n",
    "\n",
    "inputs = np.array([x])\n",
    "outputs = np.array([0])\n",
    "print(x)\n",
    "\n",
    "fig = plt.figure(figsize=(10,7)) #tamaño gráfica\n",
    "\n",
    "for i in range(2, 300): #número de iteraciones\n",
    "    inputs = np.append(inputs, x)\n",
    "    inputs = np.append(inputs, x)\n",
    "    outputs = np.append(outputs, x)\n",
    "    if x < Rational(1, 2):\n",
    "        x = r * x\n",
    "    elif x > Rational(1, 2):\n",
    "        x = r - r * x\n",
    "    outputs = np.append(outputs, x)\n",
    " \n",
    "plt.plot(inputs, outputs, lw=1) #órbitas, grosor de la linea azul\n",
    "\n",
    "# muestra la función tienda y la función identidad\n",
    "\n",
    "X1 = np.linspace(0, 0.5, 200, endpoint=True)\n",
    "X2 = np.linspace(0.5, 1, 200, endpoint=True)\n",
    "X = np.linspace(0, 1, 400, endpoint=True)\n",
    "\n",
    "plt.plot(X1, r*X1, 'k') #crece linealmente\n",
    "plt.plot(X2, r*(1-X2), 'k') #decrece linealmente\n",
    "plt.plot(X, X, 'r') #funcion identidad\n",
    "plt.xlabel('x', fontsize=10)\n",
    "plt.ylabel('T(x)', fontsize=10)\n",
    "\n",
    "plt.tick_params(labelsize=10)\n",
    "\n",
    "plt.show()"
   ]
  },
  {
   "cell_type": "markdown",
   "metadata": {},
   "source": [
    "### Función tienda modificada"
   ]
  },
  {
   "cell_type": "markdown",
   "metadata": {},
   "source": [
    "Ahora consideremos un modelo modificado de la función tienda:\n",
    "\n",
    "$$T(x)=      \\begin{cases} \n",
    "      r x,              & 0 \\le x \\le \\frac{1}{2}   \\\\\n",
    "      r \\left(\\frac{2-x}{3}\\right)           & \\frac{1}{2} < x \\le 2\n",
    "   \\end{cases}$$\n",
    "   \n",
    "   donde $r$ es un párametro tal que $0 \\le r \\le 2$ "
   ]
  },
  {
   "cell_type": "markdown",
   "metadata": {},
   "source": [
    "<img src=\"1mod.jpg\" style=\"width:400px;height:280px\"/>"
   ]
  },
  {
   "cell_type": "markdown",
   "metadata": {},
   "source": [
    "La gráfica de esta función tienda modificada es una tienda asimétrica que también cambia de altura cuando el valor del parámetro $r$ es modificado."
   ]
  },
  {
   "cell_type": "markdown",
   "metadata": {},
   "source": [
    "<img src=\"03mod.gif\" style=\"width:600px;height:250px\"/>"
   ]
  },
  {
   "cell_type": "markdown",
   "metadata": {},
   "source": [
    "Queremos saber si esta función tienda modificada puede presentar comportamientos caóticos. Entonces, calculamos su exponente de Lyapunov"
   ]
  },
  {
   "cell_type": "markdown",
   "metadata": {},
   "source": [
    "$$T(x)=      \\begin{cases} \n",
    "      2x,              & 0 \\le x \\le \\frac{1}{2}   \\\\\n",
    "      2 \\left(\\frac{2-x}{3}\\right)            & \\frac{1}{2} < x \\le 2\n",
    "   \\end{cases}$$"
   ]
  },
  {
   "cell_type": "markdown",
   "metadata": {},
   "source": [
    "$$T\\prime(x)=      \\begin{cases} \n",
    "      2,              & 0 \\le x \\le \\frac{1}{2}   \\\\\n",
    "      -\\frac{1}{3},            & \\frac{1}{2} < x \\le 2\n",
    "   \\end{cases}$$"
   ]
  },
  {
   "cell_type": "markdown",
   "metadata": {},
   "source": [
    "$$\\lambda = \\frac{1}{n}\\sum_{i=0}^{n-1} \\ln|T^\\prime(x)|$$"
   ]
  },
  {
   "cell_type": "markdown",
   "metadata": {},
   "source": [
    "$$\\lambda = ln\\left(2\\right) + ln\\left(\\frac{1}{3}\\right) $$"
   ]
  },
  {
   "cell_type": "markdown",
   "metadata": {},
   "source": [
    "$$\\lambda \\approx 0,6931 - 1,0986 = -0,4055$$"
   ]
  },
  {
   "cell_type": "markdown",
   "metadata": {},
   "source": [
    "Un exponente de Lyapunov negativo nos indica que el sistema no tiene comportamiento caótico."
   ]
  },
  {
   "cell_type": "markdown",
   "metadata": {},
   "source": [
    "Veamos sus puntos fijos. Sabemos que, en el caso de la función tienda, el *punto fijo* está definido como $T(x_n) = x_n$, para todo $n$. Al igual que en la función tienda original, existen dos puntos fijos, uno trivial en el origen, y uno en la intersección de la función tienda con la función identidad. Gráficamente, esto es lo que ocurre cuando cambiamos los valores de la condición inicial $x_0$ con un valor fijo del parámetro $r=2$:"
   ]
  },
  {
   "cell_type": "markdown",
   "metadata": {},
   "source": [
    "<img src=\"01mod.gif\" style=\"width:400px;height:280px\"/>"
   ]
  },
  {
   "cell_type": "markdown",
   "metadata": {},
   "source": [
    "¿Qué ocurre cuando cambiamos los valores del parámetro $r$ al mismo tiempo que cambiamos la condición inicial $x_0$?"
   ]
  },
  {
   "cell_type": "markdown",
   "metadata": {},
   "source": [
    "En la gráfica de la izquierda, el sistema está variando sus condiciones iniciales con el parámetro $r>1$. Hay un único punto fijo, en el corte de la función tienda modificada y la función identidad. En la gráfica de la derecha con $r=1$, hay infinitos puntos fijos a lo largo de la recta identidad. El sistema también es estable. En la gráfica de la derecha, tenemos múltiples valores iniciales con $r<1$. Hay un único punto fijo en el origen. En los tres casos, se aprecia un sistema estable con puntos fijos atractores. En ningún caso hay comportamiento caótico."
   ]
  },
  {
   "cell_type": "markdown",
   "metadata": {},
   "source": [
    " <tr>\n",
    "    <td> <img src=\"04mod.gif\" alt=\"Drawing\" style=\"width: 300px;\"/> </td>\n",
    "    <td> <img src=\"05mod.gif\" alt=\"Drawing\" style=\"width: 300px;\"/> </td>\n",
    "    <td> <img src=\"06mod.gif\" alt=\"Drawing\" style=\"width: 300px;\"/> </td>\n",
    "    </tr>"
   ]
  },
  {
   "cell_type": "markdown",
   "metadata": {},
   "source": [
    "#### La función tienda modificada en Python"
   ]
  },
  {
   "cell_type": "code",
   "execution_count": 6,
   "metadata": {},
   "outputs": [
    {
     "name": "stdout",
     "output_type": "stream",
     "text": [
      "3/101\n"
     ]
    },
    {
     "data": {
      "image/png": "[encoded data removed]",
      "text/plain": [
       "<Figure size 720x504 with 1 Axes>"
      ]
     },
     "metadata": {
      "needs_background": "light"
     },
     "output_type": "display_data"
    }
   ],
   "source": [
    "# Programs 14a: Graphical iteration of the tent map.\n",
    "# See Figure 14.7(a).\n",
    "\n",
    "from sympy import Rational\n",
    "import numpy as np\n",
    "import matplotlib.pyplot as plt\n",
    "\n",
    "r = 2 #valor del parámetro\n",
    "x = Rational(3,101)  #valor inicial\n",
    "\n",
    "inputs = np.array([x])\n",
    "outputs = np.array([0])\n",
    "print(x)\n",
    "\n",
    "fig = plt.figure(figsize=(10,7)) #tamaño gráfica\n",
    "\n",
    "for i in range(2, 300): #número de iteraciones\n",
    "    inputs = np.append(inputs, x)\n",
    "    inputs = np.append(inputs, x)\n",
    "    outputs = np.append(outputs, x)\n",
    "    if x < Rational(1, 2):\n",
    "        x = r * x\n",
    "    elif x > Rational(1, 2):\n",
    "        x = r * (2-x)/3\n",
    "    outputs = np.append(outputs, x)\n",
    " \n",
    "plt.plot(inputs, outputs, lw=1) #órbitas, grosor de la linea azul\n",
    "\n",
    "# muestra la función tienda y la función identidad\n",
    "\n",
    "X1 = np.linspace(0, 0.5, 200, endpoint=True)\n",
    "X2 = np.linspace(0.5, 2, 200, endpoint=True)\n",
    "X = np.linspace(0, 2, 400, endpoint=True)\n",
    "\n",
    "plt.plot(X1, r*X1, 'k') #crece linealmente\n",
    "plt.plot(X2, r*(2-X2)/3, 'k') #decrece linealmente\n",
    "plt.plot(X, X, 'r') #funcion identidad\n",
    "plt.xlabel('x', fontsize=10)\n",
    "plt.ylabel('T(x)', fontsize=10)\n",
    "\n",
    "plt.tick_params(labelsize=10)\n",
    "\n",
    "plt.show()"
   ]
  },
  {
   "cell_type": "markdown",
   "metadata": {},
   "source": [
    "#### Bibliografía\n",
    "$\\Delta$\tAl-Shameri, W. F. H., & Mahiub, M. A. (2013). Some dynamical properties of the family of tent maps. Int. Journal of Math. Analysis, 7(29), 1433-1449.\n",
    "\n",
    "$\\Delta$\tAndrea Idini. (2 abr. 2020). Tent Map - Chaos - A. Idini - Lund University 3a/14 [https://www.youtube.com/watch?v=LyUj0NOFerw]. Consultado en mayo 10 de 2020 \n",
    "\n",
    "$\\Delta$\tbirdtracks. (14 feb. 2015). ChaosBook.org chapter Charting the state space - Tent map [https://www.youtube.com/watch?v=mxtTvYKvm4o]. Consultado en mayo 10 de 2020\n",
    "\n",
    "$\\Delta$\tCrampin, M., & Heal, B. (1994). On the chaotic behaviour of the tent map. Teaching Mathematics and its Applications: An International Journal of the IMA, 13(2), 83-89.\n",
    "\n",
    "$\\Delta$\tChaos, Fractals, & Dynamical Systems. (22 feb. 2017). Lecture 11: Chaotic orbits, lyapunov exponents, the Tent Map [https://www.youtube.com/watch?v=TY2p8qBVfU4&t=3316s]. Consultado en mayo 9 de 2020\n",
    "\n",
    "$\\Delta$\tDu, B. S. (2005). On the invariance of Li–Yorke chaos of interval maps. Journal of Difference Equations and Applications, 11(9), 823-828.\n",
    "\n",
    "$\\Delta$\tFlake, G. W. (1998). The computational beauty of nature: Computer explorations of fractals, chaos, complex systems, and adaptation. MIT press.\n",
    "\n",
    "$\\Delta$\tHao Li. (22 sep. 2019). Colored Cob-Web Animation for Tent Map [https://www.youtube.com/watch?v=-wpOZc921m8]. Consultado en mayo 9 de 2020\n",
    "\n",
    "$\\Delta$\tSanders, D. P., & Benet, L. (2014). Validated numerics with Python: the ValidiPy package.\n",
    "\n",
    "$\\Delta$\tSayama, H. (2015). Introduction to the modeling and analysis of complex systems. Open SUNY Textbooks.\n",
    "\n",
    "$\\Delta$\tStarrett, J. (1997). The tent map, the horseshoe and the pendulum: the geometry of chaos control (Doctoral dissertation, University of Colorado at Denver).\n",
    "\n",
    "$\\Delta$\tTheShapeofMath. (22 dic. 2019). MA30060 Dynamics and Chaos: on chaos in the tent map [https://www.youtube.com/watch?v=1xQtRuP2dyE]. Consultado en mayo 10 de 2020\n"
   ]
  },
  {
   "cell_type": "markdown",
   "metadata": {},
   "source": [
    "##### Apéndice"
   ]
  },
  {
   "cell_type": "markdown",
   "metadata": {},
   "source": [
    "<img src=\"crazytentmap.gif\" style=\"width:500px;height:350px\"/>\n",
    "\n",
    "Tomado de <a href=\"https://www.youtube.com/watch?v=-wpOZc921m8\">Colored Cob-Web Animation for Tent Map</a> en Youtube\n",
    "\n"
   ]
  }
 ],
 "metadata": {
  "kernelspec": {
   "display_name": "Python 3",
   "language": "python",
   "name": "python3"
  },
  "language_info": {
   "codemirror_mode": {
    "name": "ipython",
    "version": 3
   },
   "file_extension": ".py",
   "mimetype": "text/x-python",
   "name": "python",
   "nbconvert_exporter": "python",
   "pygments_lexer": "ipython3",
   "version": "3.8.5"
  }
 },
 "nbformat": 4,
 "nbformat_minor": 2
}
